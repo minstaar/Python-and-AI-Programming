{
  "nbformat": 4,
  "nbformat_minor": 0,
  "metadata": {
    "colab": {
      "provenance": [],
      "authorship_tag": "ABX9TyP+5DaArTTtfKSVrouChIP4",
      "include_colab_link": true
    },
    "kernelspec": {
      "name": "python3",
      "display_name": "Python 3"
    },
    "language_info": {
      "name": "python"
    }
  },
  "cells": [
    {
      "cell_type": "markdown",
      "metadata": {
        "id": "view-in-github",
        "colab_type": "text"
      },
      "source": [
        "<a href=\"https://colab.research.google.com/github/minstaar/Python-and-AI-Programming/blob/main/Class%26Module%26Package.ipynb\" target=\"_parent\"><img src=\"https://colab.research.google.com/assets/colab-badge.svg\" alt=\"Open In Colab\"/></a>"
      ]
    },
    {
      "cell_type": "code",
      "execution_count": 22,
      "metadata": {
        "colab": {
          "base_uri": "https://localhost:8080/"
        },
        "id": "rVwU_cbDiu6H",
        "outputId": "051a6e40-067a-48b4-8af7-14effc712e4a"
      },
      "outputs": [
        {
          "output_type": "stream",
          "name": "stdout",
          "text": [
            "LG전자 150000 0\n",
            "LG전자 150000 1\n"
          ]
        },
        {
          "output_type": "execute_result",
          "data": {
            "text/plain": [
              "1"
            ]
          },
          "metadata": {},
          "execution_count": 22
        }
      ],
      "source": [
        "class Stocks:\n",
        "  def __init__(self, name, price, count = 0):\n",
        "    self.name = name\n",
        "    self.price = price\n",
        "    self.count = count\n",
        "\n",
        "  def __repr__(self):\n",
        "    return f\"Stocks의 클릭 수(count = {self.count})\"\n",
        "\n",
        "  def click(self):\n",
        "    self.count += 1\n",
        "\n",
        "  def read(self):\n",
        "    return self.count\n",
        "\n",
        "  def reset(self):\n",
        "    self.count = 0\n",
        "\n",
        "lg = Stocks(\"LG전자\", 150000)\n",
        "print(lg.name, lg.price, lg.count)\n",
        "lg.click()\n",
        "print(lg.name, lg.price, lg.count)\n",
        "\n",
        "lg.read()\n",
        "lg.reset()"
      ]
    },
    {
      "cell_type": "code",
      "source": [
        "class subStocks(Stocks):\n",
        "  def reset(self):\n",
        "    self.count = 100\n",
        "\n",
        "  def click(self):\n",
        "    self.count *= 2\n",
        "\n",
        "  def subPrice(self, price1):\n",
        "    self.price1 = price1\n",
        "    return f\"subprice반환 \", self.price1\n",
        "\n",
        "  def addcountprice(self, count, price):\n",
        "    self.price = price\n",
        "    self.count = count\n",
        "    return f\"price+100*count\", self.price + 100 * self.count\n",
        "\n",
        "sublg = subStocks(\"LG전자\", 150000)\n",
        "print(sublg.name, sublg.price, sublg.count)\n",
        "\n",
        "sublg.reset()\n",
        "print(sublg.name, sublg.price, sublg.count)\n",
        "sublg.click()\n",
        "sublg.click()\n",
        "print(sublg.name, sublg.price, sublg.count)"
      ],
      "metadata": {
        "colab": {
          "base_uri": "https://localhost:8080/"
        },
        "id": "oHalD2ip-hB0",
        "outputId": "5913dc3c-4ba0-4935-e53a-1ffb2178a15d"
      },
      "execution_count": 27,
      "outputs": [
        {
          "output_type": "stream",
          "name": "stdout",
          "text": [
            "LG전자 150000 0\n",
            "LG전자 150000 100\n",
            "LG전자 150000 400\n"
          ]
        }
      ]
    },
    {
      "cell_type": "code",
      "source": [
        "import pandas as pd\n",
        "\n",
        "pd.Series([1, 2, 3, 4, 5])"
      ],
      "metadata": {
        "colab": {
          "base_uri": "https://localhost:8080/",
          "height": 241
        },
        "id": "PKPCyT3DFYIH",
        "outputId": "c04251a3-7d3f-4bd5-9436-d71371d2a27f"
      },
      "execution_count": 28,
      "outputs": [
        {
          "output_type": "execute_result",
          "data": {
            "text/plain": [
              "0    1\n",
              "1    2\n",
              "2    3\n",
              "3    4\n",
              "4    5\n",
              "dtype: int64"
            ],
            "text/html": [
              "<div>\n",
              "<style scoped>\n",
              "    .dataframe tbody tr th:only-of-type {\n",
              "        vertical-align: middle;\n",
              "    }\n",
              "\n",
              "    .dataframe tbody tr th {\n",
              "        vertical-align: top;\n",
              "    }\n",
              "\n",
              "    .dataframe thead th {\n",
              "        text-align: right;\n",
              "    }\n",
              "</style>\n",
              "<table border=\"1\" class=\"dataframe\">\n",
              "  <thead>\n",
              "    <tr style=\"text-align: right;\">\n",
              "      <th></th>\n",
              "      <th>0</th>\n",
              "    </tr>\n",
              "  </thead>\n",
              "  <tbody>\n",
              "    <tr>\n",
              "      <th>0</th>\n",
              "      <td>1</td>\n",
              "    </tr>\n",
              "    <tr>\n",
              "      <th>1</th>\n",
              "      <td>2</td>\n",
              "    </tr>\n",
              "    <tr>\n",
              "      <th>2</th>\n",
              "      <td>3</td>\n",
              "    </tr>\n",
              "    <tr>\n",
              "      <th>3</th>\n",
              "      <td>4</td>\n",
              "    </tr>\n",
              "    <tr>\n",
              "      <th>4</th>\n",
              "      <td>5</td>\n",
              "    </tr>\n",
              "  </tbody>\n",
              "</table>\n",
              "</div><br><label><b>dtype:</b> int64</label>"
            ]
          },
          "metadata": {},
          "execution_count": 28
        }
      ]
    },
    {
      "cell_type": "code",
      "source": [
        "import math\n",
        "\n",
        "print(math.pi)"
      ],
      "metadata": {
        "colab": {
          "base_uri": "https://localhost:8080/"
        },
        "id": "6iCrC8pEFga4",
        "outputId": "e7abbfa1-91d5-48bb-a9d5-38a15d616a0e"
      },
      "execution_count": 29,
      "outputs": [
        {
          "output_type": "stream",
          "name": "stdout",
          "text": [
            "3.141592653589793\n"
          ]
        }
      ]
    },
    {
      "cell_type": "code",
      "source": [
        "from math import pi, sqrt\n",
        "\n",
        "print(pi, sqrt(2))"
      ],
      "metadata": {
        "colab": {
          "base_uri": "https://localhost:8080/"
        },
        "id": "bHoms6gtF1v5",
        "outputId": "e34ddd27-c865-4498-c3c4-45bed11132b7"
      },
      "execution_count": 30,
      "outputs": [
        {
          "output_type": "stream",
          "name": "stdout",
          "text": [
            "3.141592653589793 1.4142135623730951\n"
          ]
        }
      ]
    },
    {
      "cell_type": "code",
      "source": [
        "from math import *\n",
        "\n",
        "print(pi, sqrt(2))"
      ],
      "metadata": {
        "colab": {
          "base_uri": "https://localhost:8080/"
        },
        "id": "ITKj-aF_GFQH",
        "outputId": "82c15058-d370-4605-c40c-9039971d2836"
      },
      "execution_count": 31,
      "outputs": [
        {
          "output_type": "stream",
          "name": "stdout",
          "text": [
            "3.141592653589793 1.4142135623730951\n"
          ]
        }
      ]
    },
    {
      "cell_type": "code",
      "source": [
        "from math import pi as p, sqrt as s\n",
        "\n",
        "print(p, s(2))"
      ],
      "metadata": {
        "colab": {
          "base_uri": "https://localhost:8080/"
        },
        "id": "bVvWTM_sGs0a",
        "outputId": "e96f3692-3a6b-44c4-e2df-37c0e954f477"
      },
      "execution_count": 32,
      "outputs": [
        {
          "output_type": "stream",
          "name": "stdout",
          "text": [
            "3.141592653589793 1.4142135623730951\n"
          ]
        }
      ]
    },
    {
      "cell_type": "code",
      "source": [
        "import urllib.request\n",
        "response = urllib.request.urlopen('http://www.google.co.kr')\n",
        "response.status"
      ],
      "metadata": {
        "colab": {
          "base_uri": "https://localhost:8080/"
        },
        "id": "oMmYWtzPQlFO",
        "outputId": "f98a1555-df57-4677-b69c-b6a793e7444e"
      },
      "execution_count": 34,
      "outputs": [
        {
          "output_type": "execute_result",
          "data": {
            "text/plain": [
              "200"
            ]
          },
          "metadata": {},
          "execution_count": 34
        }
      ]
    },
    {
      "cell_type": "code",
      "source": [
        "from urllib.request import Request, urlopen\n",
        "req = Request('http://www.google.co.kr')\n",
        "response = urlopen(req)\n",
        "response.status"
      ],
      "metadata": {
        "colab": {
          "base_uri": "https://localhost:8080/"
        },
        "id": "dpW7MKeqQxhk",
        "outputId": "7a088d50-3687-4bf0-b28b-92571aa163c4"
      },
      "execution_count": 35,
      "outputs": [
        {
          "output_type": "execute_result",
          "data": {
            "text/plain": [
              "200"
            ]
          },
          "metadata": {},
          "execution_count": 35
        }
      ]
    }
  ]
}