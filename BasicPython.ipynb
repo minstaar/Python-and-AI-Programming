{
  "nbformat": 4,
  "nbformat_minor": 0,
  "metadata": {
    "colab": {
      "provenance": [],
      "authorship_tag": "ABX9TyMn/I6DBe++VrQq9Kk31M+F",
      "include_colab_link": true
    },
    "kernelspec": {
      "name": "python3",
      "display_name": "Python 3"
    },
    "language_info": {
      "name": "python"
    }
  },
  "cells": [
    {
      "cell_type": "markdown",
      "metadata": {
        "id": "view-in-github",
        "colab_type": "text"
      },
      "source": [
        "<a href=\"https://colab.research.google.com/github/minstaar/Python-and-AI-Programming/blob/main/BasicPython.ipynb\" target=\"_parent\"><img src=\"https://colab.research.google.com/assets/colab-badge.svg\" alt=\"Open In Colab\"/></a>"
      ]
    },
    {
      "cell_type": "code",
      "source": [
        "a = {'a', 'A', 'C', 'c', 'B', 'b'}\n",
        "b = list(a)\n",
        "print(a)\n",
        "print(b[3])"
      ],
      "metadata": {
        "colab": {
          "base_uri": "https://localhost:8080/"
        },
        "id": "MOW9vEV2vZ2Q",
        "outputId": "45828241-2725-46fa-b30b-0a2d8843596c"
      },
      "execution_count": 56,
      "outputs": [
        {
          "output_type": "stream",
          "name": "stdout",
          "text": [
            "{'a', 'c', 'C', 'b', 'B', 'A'}\n",
            "b\n"
          ]
        }
      ]
    },
    {
      "cell_type": "code",
      "source": [
        "A, B = map(int, input().split());\n",
        "print(A + B)"
      ],
      "metadata": {
        "colab": {
          "base_uri": "https://localhost:8080/"
        },
        "id": "QLeisNPzvP3q",
        "outputId": "0a151694-3dfd-4850-a3ec-7d381ce54a43"
      },
      "execution_count": 57,
      "outputs": [
        {
          "output_type": "stream",
          "name": "stdout",
          "text": [
            "2 3\n",
            "5\n"
          ]
        }
      ]
    },
    {
      "cell_type": "code",
      "source": [
        "li = [1, 2, 3, 4, 5]\n",
        "for i in li:\n",
        "  print(i, end=\"\")\n",
        "print()\n",
        "for i in range(0, 5):\n",
        "  print(i, li[i], sep=\", \")"
      ],
      "metadata": {
        "colab": {
          "base_uri": "https://localhost:8080/"
        },
        "id": "rTk2GXhk6oNC",
        "outputId": "b0f0ca54-2098-4707-825f-1954befedde0"
      },
      "execution_count": 67,
      "outputs": [
        {
          "output_type": "stream",
          "name": "stdout",
          "text": [
            "12345\n",
            "0, 1\n",
            "1, 2\n",
            "2, 3\n",
            "3, 4\n",
            "4, 5\n"
          ]
        }
      ]
    },
    {
      "cell_type": "code",
      "source": [
        "A = [1, 2, 3, 4, 5]\n",
        "B = list(map(lambda x: x * 2, A))\n",
        "print(B)"
      ],
      "metadata": {
        "colab": {
          "base_uri": "https://localhost:8080/"
        },
        "id": "WpIa219GvJQZ",
        "outputId": "27f1d508-b5a6-42d8-c689-c0ddb6279888"
      },
      "execution_count": 58,
      "outputs": [
        {
          "output_type": "stream",
          "name": "stdout",
          "text": [
            "[2, 4, 6, 8, 10]\n"
          ]
        }
      ]
    },
    {
      "cell_type": "code",
      "source": [
        "import copy\n",
        "\n",
        "A = [1, 2, 3, 4, 5]\n",
        "\n",
        "B = copy.deepcopy(A)\n",
        "\n",
        "print(id(A), id(B))\n",
        "\n",
        "add = lambda a, b: a + b\n",
        "\n",
        "print(add(2, 3))"
      ],
      "metadata": {
        "colab": {
          "base_uri": "https://localhost:8080/"
        },
        "id": "XPC6qWzsvBkC",
        "outputId": "7d818d60-9ed2-4da7-94c7-2653e5ab00c9"
      },
      "execution_count": 59,
      "outputs": [
        {
          "output_type": "stream",
          "name": "stdout",
          "text": [
            "139984573393728 139984568697792\n",
            "5\n"
          ]
        }
      ]
    },
    {
      "cell_type": "code",
      "source": [
        "import copy\n",
        "\n",
        "A = [1, 2, 3, 4, 5]\n",
        "\n",
        "B = copy.deepcopy(A)\n",
        "\n",
        "print(id(A), id(B))\n",
        "\n",
        "add = lambda a, b: a + b\n",
        "\n",
        "print(add(2, 3))"
      ],
      "metadata": {
        "colab": {
          "base_uri": "https://localhost:8080/"
        },
        "id": "HDeDja5Au6qi",
        "outputId": "bda94738-f816-4140-b2dc-c2a5b7d0a318"
      },
      "execution_count": 68,
      "outputs": [
        {
          "output_type": "stream",
          "name": "stdout",
          "text": [
            "139984568651200 139984571032832\n",
            "5\n"
          ]
        }
      ]
    },
    {
      "cell_type": "code",
      "source": [
        "s = set()\n",
        "print(type(s))\n",
        "s.add(3)\n",
        "print(s)"
      ],
      "metadata": {
        "colab": {
          "base_uri": "https://localhost:8080/"
        },
        "id": "0JAzykDCu0m8",
        "outputId": "864bf540-433c-4002-e2d3-c5986606bb55"
      },
      "execution_count": 69,
      "outputs": [
        {
          "output_type": "stream",
          "name": "stdout",
          "text": [
            "<class 'set'>\n",
            "{3}\n"
          ]
        }
      ]
    },
    {
      "cell_type": "code",
      "source": [
        "li = []\n",
        "li.append(1)\n",
        "print(li)"
      ],
      "metadata": {
        "colab": {
          "base_uri": "https://localhost:8080/"
        },
        "id": "RKZIMft7uxk0",
        "outputId": "7ecbba44-4c6b-4771-a56d-b573786e0d4f"
      },
      "execution_count": 70,
      "outputs": [
        {
          "output_type": "stream",
          "name": "stdout",
          "text": [
            "[1]\n"
          ]
        }
      ]
    },
    {
      "cell_type": "code",
      "source": [
        "from collections import defaultdict, Counter\n",
        "\n",
        "dic = defaultdict(int)\n",
        "print(dic)"
      ],
      "metadata": {
        "colab": {
          "base_uri": "https://localhost:8080/"
        },
        "id": "WU2OONNrvr9w",
        "outputId": "85b2ea5e-0c1e-43bb-9dba-ecfe3dcd4e2e"
      },
      "execution_count": 71,
      "outputs": [
        {
          "output_type": "stream",
          "name": "stdout",
          "text": [
            "defaultdict(<class 'int'>, {})\n"
          ]
        }
      ]
    },
    {
      "cell_type": "code",
      "source": [
        "from collections import Counter\n",
        "li = [1, 2, 3, 1, 2, 2, 1, 3, 1]\n",
        "res = Counter(li);\n",
        "print(res, type(res))"
      ],
      "metadata": {
        "colab": {
          "base_uri": "https://localhost:8080/"
        },
        "id": "P974cJYDurYU",
        "outputId": "2f590aba-a280-4d36-f3b1-ab4ffade3c69"
      },
      "execution_count": 72,
      "outputs": [
        {
          "output_type": "stream",
          "name": "stdout",
          "text": [
            "Counter({1: 4, 2: 3, 3: 2}) <class 'collections.Counter'>\n"
          ]
        }
      ]
    },
    {
      "cell_type": "code",
      "source": [
        "A = [1, 2, 3, 4, 5, 6]\n",
        "B = [4, 5, 6, 7, 8, 9]\n",
        "li = list(zip(A, B))\n",
        "print(li)"
      ],
      "metadata": {
        "colab": {
          "base_uri": "https://localhost:8080/"
        },
        "id": "nIQIWpf2wA7B",
        "outputId": "09197eb7-5158-4293-87e6-f34e68277bc2"
      },
      "execution_count": 73,
      "outputs": [
        {
          "output_type": "stream",
          "name": "stdout",
          "text": [
            "[(1, 4), (2, 5), (3, 6), (4, 7), (5, 8), (6, 9)]\n"
          ]
        }
      ]
    },
    {
      "cell_type": "code",
      "source": [
        "A = [1, 2, 3]\n",
        "B = [4, 5, 6]\n",
        "\n",
        "print(zip(A, B))\n",
        "for pair in zip(A, B):\n",
        "  print(pair, type(pair))\n",
        "\n",
        "res = [pair for pair in zip(A, B)]\n",
        "print(res)\n",
        "\n",
        "print(list(zip(*res)))"
      ],
      "metadata": {
        "colab": {
          "base_uri": "https://localhost:8080/"
        },
        "id": "59Hb5xzOxHIF",
        "outputId": "dfb0013d-58f5-46fa-a299-e94ca3c4a142"
      },
      "execution_count": 45,
      "outputs": [
        {
          "output_type": "stream",
          "name": "stdout",
          "text": [
            "<zip object at 0x7f50b298bec0>\n",
            "(1, 4) <class 'tuple'>\n",
            "(2, 5) <class 'tuple'>\n",
            "(3, 6) <class 'tuple'>\n",
            "[(1, 4), (2, 5), (3, 6)]\n",
            "[(1, 2, 3), (4, 5, 6)]\n"
          ]
        }
      ]
    },
    {
      "cell_type": "code",
      "source": [
        "res = [i * 2 for i in range(1, 6)]\n",
        "print(res)\n",
        "\n",
        "dp = [[0 for _ in range(0, 6)] for _ in range(0, 6)]\n",
        "print(dp)"
      ],
      "metadata": {
        "colab": {
          "base_uri": "https://localhost:8080/"
        },
        "id": "Mj7e4ZXfxw5z",
        "outputId": "0a1e62fd-932f-473c-ea9d-541d99273f8c"
      },
      "execution_count": 42,
      "outputs": [
        {
          "output_type": "stream",
          "name": "stdout",
          "text": [
            "[2, 4, 6, 8, 10]\n",
            "[[0, 0, 0, 0, 0, 0], [0, 0, 0, 0, 0, 0], [0, 0, 0, 0, 0, 0], [0, 0, 0, 0, 0, 0], [0, 0, 0, 0, 0, 0], [0, 0, 0, 0, 0, 0]]\n"
          ]
        }
      ]
    },
    {
      "cell_type": "code",
      "source": [
        "A = [2, 4, 7, 6, 5, 3, 1]\n",
        "\n",
        "for i, j in enumerate(A):\n",
        "  print(i, j)\n",
        "\n",
        "B = {1:5, 2:3, 3:7}\n",
        "for i, j in enumerate(B):\n",
        "  print(i, j, B[j])"
      ],
      "metadata": {
        "colab": {
          "base_uri": "https://localhost:8080/"
        },
        "id": "d6GqSLCIyctK",
        "outputId": "4f9c6748-436c-41e5-97fe-f2c37f51a222"
      },
      "execution_count": 52,
      "outputs": [
        {
          "output_type": "stream",
          "name": "stdout",
          "text": [
            "0 2\n",
            "1 4\n",
            "2 7\n",
            "3 6\n",
            "4 5\n",
            "5 3\n",
            "6 1\n",
            "0 1 5\n",
            "1 2 3\n",
            "2 3 7\n"
          ]
        }
      ]
    },
    {
      "cell_type": "code",
      "source": [
        "A = [1, 2, 3, 4, 5]\n",
        "A.append([6, 7])\n",
        "A.extend([6, 7]);\n",
        "print(A)"
      ],
      "metadata": {
        "colab": {
          "base_uri": "https://localhost:8080/"
        },
        "id": "GQebw5Xn6Qkr",
        "outputId": "85d49fd5-0c52-4cff-a787-7729266dbcda"
      },
      "execution_count": 55,
      "outputs": [
        {
          "output_type": "stream",
          "name": "stdout",
          "text": [
            "[1, 2, 3, 4, 5, [6, 7], 6, 7]\n"
          ]
        }
      ]
    },
    {
      "cell_type": "code",
      "source": [
        "A = [2, 7, 6, 8, 4]\n",
        "print(sorted(A, reverse=True))\n",
        "\n",
        "B = [-2, -7, 6, 8, -4]\n",
        "print(sorted(B), \"\\n\", sorted(B, key=abs, reverse=True), sep=\"\")\n",
        "print(abs(B[0]))"
      ],
      "metadata": {
        "colab": {
          "base_uri": "https://localhost:8080/"
        },
        "id": "W0vlDR_k8Dy3",
        "outputId": "75fb872e-5139-4305-aff1-7935a1c426b3"
      },
      "execution_count": 78,
      "outputs": [
        {
          "output_type": "stream",
          "name": "stdout",
          "text": [
            "[8, 7, 6, 4, 2]\n",
            "[-7, -4, -2, 6, 8]\n",
            "[8, -7, 6, -4, -2]\n",
            "2\n"
          ]
        }
      ]
    },
    {
      "cell_type": "code",
      "source": [
        "import sys\n",
        "N = int(sys.stdin.readline())\n",
        "li=[]\n",
        "for i in range(N):\n",
        "    a, b = map(int, sys.stdin.readline().split())\n",
        "    li.append([a, b])\n",
        "li.sort(key = lambda x: (-x[1], x[0]))\n",
        "for i in li:\n",
        "    print(i[0], i[1])"
      ],
      "metadata": {
        "id": "rCWRYFvw80eW"
      },
      "execution_count": 84,
      "outputs": []
    }
  ]
}